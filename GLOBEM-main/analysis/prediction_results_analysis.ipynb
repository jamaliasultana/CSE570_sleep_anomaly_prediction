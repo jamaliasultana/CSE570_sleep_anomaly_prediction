{
 "cells": [
  {
   "cell_type": "code",
   "execution_count": null,
   "id": "0c8db79f-00fd-4c6c-807e-e7543b6c9a3d",
   "metadata": {},
   "outputs": [],
   "source": [
    "%matplotlib inline\n",
    "%reload_ext autoreload\n",
    "%autoreload 2\n",
    "\n",
    "import sys\n",
    "sys.path.append(\"../\")\n",
    "sys.path.append(\"../../\")"
   ]
  },
  {
   "cell_type": "code",
   "execution_count": null,
   "id": "f17b979e-706e-45e0-bf55-b09731f08e31",
   "metadata": {},
   "outputs": [],
   "source": [
    "from utils.common_settings import *\n",
    "from utils.basic_utils import utils_tex\n",
    "from data_loader import data_loader_ml, data_loader_dl\n",
    "from utils import path_definitions\n",
    "from utils.cv_split import judge_corner_cvsplit\n",
    "from algorithm.base import DepressionDetectionAlgorithmBase\n",
    "from data_loader.data_loader_ml import DatasetDict, DataRepo\n",
    "from utils import train_eval_pipeline"
   ]
  },
  {
   "cell_type": "code",
   "execution_count": null,
   "id": "926b75dd-58a3-4d21-8deb-740b80fcfcce",
   "metadata": {},
   "outputs": [],
   "source": [
    "import matplotlib as mpl\n",
    "from matplotlib import rcParams\n",
    "mpl.rcParams.update(mpl.rcParamsDefault)\n",
    "\n",
    "plt.style.use(['science', \"grid\"])\n",
    "\n",
    "plt.rcParams[\"font.family\"] = \"Times New Roman\""
   ]
  },
  {
   "cell_type": "code",
   "execution_count": null,
   "id": "1b2f4dc4-6610-449c-b83f-e558b9f10493",
   "metadata": {},
   "outputs": [],
   "source": [
    "ds_keys = [\"INS-W_1\", \"INS-W_2\", \"INS-W_3\", \"INS-W_4\"]\n",
    "colors = [ \"#1a9641\", \"#2b83ba\", \"#fdae61\", \"#d7191c\", \"#ffffbf\"]"
   ]
  },
  {
   "cell_type": "code",
   "execution_count": null,
   "id": "5f540e99-0ae8-4e08-ae00-10ae2b5f2ad3",
   "metadata": {},
   "outputs": [],
   "source": [
    "model_ml = ['ml_canzian', 'ml_saeb', 'ml_farhan', 'ml_wahle', 'ml_lu', 'ml_wang', 'ml_xu_interpretable', 'ml_xu_personalized', 'ml_chikersal']\n",
    "model_dl = ['dl_erm_1dCNN', 'dl_erm_2dCNN', 'dl_erm_LSTM', 'dl_erm_Transformer', 'dl_erm_mixup', 'dl_irm',\n",
    " 'dl_dann_ds_as_domain', 'dl_dann_person_as_domain', 'dl_csd_ds_as_domain', 'dl_csd_person_as_domain',\n",
    " 'dl_mldg_ds_as_domain','dl_mldg_person_as_domain', 'dl_masf_ds_as_domain', 'dl_masf_person_as_domain',\n",
    " 'dl_siamese', 'dl_reorder']\n",
    "\n",
    "model_list = model_ml + model_dl"
   ]
  },
  {
   "cell_type": "code",
   "execution_count": null,
   "id": "80e9756d-066e-4c00-82b6-f625e8422293",
   "metadata": {},
   "outputs": [],
   "source": [
    "model_rename_display = {\n",
    "    'ml_saeb': \"Saeb et al.\",\n",
    "    'ml_canzian': \"Canzian et al.\",\n",
    "    'ml_wahle': \"Wahle et al.\",\n",
    "    'ml_farhan': \"Farhan et al.\", \n",
    "    'ml_lu': \"Lu et al.\", \n",
    "    'ml_wang' : \"Wang et al.\", \n",
    "    'ml_chikersal': \"Chikersal et al.\", \n",
    "    'ml_xu_interpretable': \"Xu et al.-I\", \n",
    "    'ml_xu_personalized': 'Xu et al.-P',\n",
    "    'dl_erm_1dCNN': \"ERM-1dCNN\", \n",
    "    'dl_erm_2dCNN': \"ERM-2dCNN\", \n",
    "    'dl_erm_LSTM': \"ERM-LSTM\", \n",
    "    'dl_erm_Transformer': \"ERM-Transformer\", \n",
    "    'dl_erm_mixup': \"ERM-Mixup\", \n",
    "    'dl_irm': \"IRM\",\n",
    "    'dl_mldg_ds_as_domain': \"MLDG-D\",\n",
    "    'dl_mldg_person_as_domain': \"MLDG-P\",\n",
    "    'dl_masf_ds_as_domain': \"MASF-D\",\n",
    "    'dl_masf_person_as_domain': \"MASF-P\",\n",
    "    'dl_csd_ds_as_domain': \"CSD-D\",\n",
    "    'dl_csd_person_as_domain': \"CSD-P\",\n",
    "    'dl_dann_ds_as_domain': \"DANN-D\",\n",
    "    'dl_dann_person_as_domain': \"DANN-P\",\n",
    "    'dl_siamese': \"Siamese Network\",\n",
    "    'dl_reorder': \"Reorder\"\n",
    "}\n",
    "\n",
    "model_rename_latex = {\n",
    "    'ml_saeb': \"Saeb \\\\etal~\\\\cite{saeb_mobile_2015}\",\n",
    "    'ml_canzian': \"Canzian \\\\etal~\\\\cite{canzian_trajectories_2015}\",\n",
    "    'ml_wahle': \"Wahle \\\\etal~\\\\cite{wahle_mobile_2016}\",\n",
    "    'ml_farhan': \"Farhan \\\\etal~\\\\cite{farhan_behavior_2016}\",\n",
    "    'ml_lu': \"Lu \\\\etal~\\\\cite{lu_joint_2018}\",\n",
    "    'ml_wang' : \"Wang \\\\etal~\\\\cite{wang_tracking_2018}\", \n",
    "    'ml_chikersal': \"Chikersal \\\\etal~\\\\cite{chikersal_detecting_2021}\",\n",
    "    'ml_xu_interpretable': \"Xu \\\\etal-I~\\\\cite{xu_leveraging_2019}\",\n",
    "    'ml_xu_personalized': 'Xu \\\\etal-P~\\\\cite{xu_leveraging_2021}',\n",
    "    'dl_erm_1dCNN': \"ERM-1dCNN~\\\\cite{vapnik1999overview}\", \n",
    "    'dl_erm_2dCNN': \"ERM-2dCNN~\\\\cite{vapnik1999overview}\", \n",
    "    'dl_erm_LSTM': \"ERM-LSTM~\\\\cite{vapnik1999overview}\", \n",
    "    'dl_erm_Transformer': \"ERM-Transformer~\\\\cite{vapnik1999overview}\", \n",
    "    'dl_erm_mixup': \"ERM-Mixup~\\\\cite{zhang_mixup_2018}\",\n",
    "    'dl_irm': \"IRM~\\\\cite{arjovsky_invariant_2020}\",\n",
    "    'dl_mldg_ds_as_domain': \"MLDG-D~\\\\cite{li_learning_2017}\",\n",
    "    'dl_mldg_person_as_domain': \"MLDG-P~\\\\cite{li_learning_2017}\",\n",
    "    'dl_masf_ds_as_domain': \"MASF-D~\\\\cite{dou_domain_2019}\",\n",
    "    'dl_masf_person_as_domain': \"MASF-P~\\\\cite{dou_domain_2019}\",\n",
    "    'dl_csd_ds_as_domain': \"CSD-D~\\\\cite{piratla_efficient_2020}\",\n",
    "    'dl_csd_person_as_domain': \"CSD-P~\\\\cite{piratla_efficient_2020}\",\n",
    "    'dl_dann_ds_as_domain': \"DANN-D~\\\\cite{csurka_domain-adversarial_2017}\",\n",
    "    'dl_dann_person_as_domain': \"DANN-P~\\\\cite{csurka_domain-adversarial_2017}\",\n",
    "    'dl_siamese': \"Siamese Network~\\\\cite{koch_siamese_2015}\",\n",
    "    'dl_reorder': \"Reorder~\\\\cite{xu_globem_2022}\"\n",
    "}"
   ]
  },
  {
   "cell_type": "code",
   "execution_count": null,
   "id": "f7bab875-fb33-4ba2-a34d-1598c6ac4c39",
   "metadata": {},
   "outputs": [],
   "source": [
    "evaluation_output_folder = \"../evaluation_output/example_output/\""
   ]
  },
  {
   "cell_type": "markdown",
   "id": "31af7d02-543c-4f07-a445-aa5d033f3592",
   "metadata": {},
   "source": [
    "# Model Performance Analysis"
   ]
  },
  {
   "cell_type": "code",
   "execution_count": null,
   "id": "806abc0f-31bb-490a-a5b3-f9d293c6c526",
   "metadata": {},
   "outputs": [],
   "source": [
    "def get_results_table_ds(df_results, pred_target, metric, model_order = None, ds_order = None):\n",
    "    df_pivot = utils_operation.get_df_rows(df_results, {\"pred_target\": pred_target}).pivot(\n",
    "        index = \"model\", columns = \"ds_test\", values = metric)\n",
    "    df_pivot[\"Avg\"] = df_pivot.mean(axis = 1)\n",
    "    if (model_order is None):\n",
    "        return df_pivot\n",
    "    else:\n",
    "        return df_pivot.loc[model_order, ds_order + [\"Avg\"]]"
   ]
  },
  {
   "cell_type": "code",
   "execution_count": null,
   "id": "a75e2a12-f19a-43a4-a0c7-2eb2882a3575",
   "metadata": {},
   "outputs": [],
   "source": [
    "def get_pivot_table(df_results, ds_keys, print_latex=False, bold_last_row = False):\n",
    "    df_pivot_balacc = get_results_table_ds(df_results, \"dep_weekly\", \"test_balanced_acc\",\n",
    "        model_order=model_list,ds_order=ds_keys)\n",
    "    df_pivot_rocauc = get_results_table_ds(df_results, \"dep_weekly\", \"test_roc_auc\",\n",
    "        model_order=model_list,ds_order=ds_keys)\n",
    "    df_pivot = pd.concat([df_pivot_balacc,df_pivot_rocauc], axis = 1)\n",
    "    df_pivot_latex = df_pivot.rename(index = model_rename_latex).reset_index()\n",
    "    df_pivot_latex = df_pivot_latex.rename({\"model\":\"Model\"}, axis = 1)\n",
    "    if (print_latex):\n",
    "        if bold_last_row:\n",
    "            latex_str_list = utils_tex.table2tex(df_pivot_latex,bold_row_idx=len(df_pivot_latex)-1)\n",
    "        else:\n",
    "            latex_str_list = utils_tex.table2tex(df_pivot_latex)\n",
    "        print(\"\\n& \".join(latex_str_list))\n",
    "    return df_pivot_balacc, df_pivot_rocauc"
   ]
  },
  {
   "cell_type": "markdown",
   "id": "d00b98c4-2271-47bd-ac70-12468c4cdecb",
   "metadata": {},
   "source": [
    "## One DS within Users"
   ]
  },
  {
   "cell_type": "code",
   "execution_count": null,
   "id": "aae1a9a5-9f0b-4188-b06a-9969cac383c4",
   "metadata": {},
   "outputs": [],
   "source": [
    "folder_path = evaluation_output_folder+ \"evaluation_single_dataset_within_user/dep_weekly/\"\n",
    "results_files = glob.glob(folder_path + \"/*.pkl\", recursive=True)"
   ]
  },
  {
   "cell_type": "code",
   "execution_count": null,
   "id": "9578e2c9-98e3-4e32-8c40-66d5df5a2aff",
   "metadata": {},
   "outputs": [],
   "source": [
    "df_results_singleds_within_user_list = []\n",
    "for results_file in results_files:\n",
    "    folder, file = os.path.split(results_file)\n",
    "    model_name = file.replace(\".pkl\", \"\")\n",
    "\n",
    "    # print(model_name)\n",
    "    with open(results_file, 'rb') as f:\n",
    "        results = pickle.load(f)\n",
    "    for pred_target, results_dict in results['results_repo'].items():\n",
    "        for ds_test, results_dict_test in results_dict.items():\n",
    "            d = {\"ds_test\": ds_test, \"pred_target\": pred_target, \"model\": model_name}\n",
    "            # if (model_name.startswith(\"ml\") or \"2dCNN\" in model_name):\n",
    "            d.update(results_dict_test)\n",
    "            # else:\n",
    "                # d.update(results_dict_test[ds_test])\n",
    "            df_results_singleds_within_user_list.append(d)\n",
    "\n",
    "df_results_singleds_within_user_list = pd.DataFrame(df_results_singleds_within_user_list)"
   ]
  },
  {
   "cell_type": "code",
   "execution_count": null,
   "id": "ae8b48d5-7971-4f65-8a3d-dff6e347f3d3",
   "metadata": {},
   "outputs": [],
   "source": [
    "df_pivot_balacc_singleds, df_pivot_rocauc_singleds = get_pivot_table(\n",
    "    df_results=df_results_singleds_within_user_list, ds_keys=ds_keys,\n",
    "    print_latex=True)"
   ]
  },
  {
   "cell_type": "markdown",
   "id": "c6424e91-a8f2-437f-ba7b-a2efef4409f1",
   "metadata": {},
   "source": [
    "## All but One DS"
   ]
  },
  {
   "cell_type": "code",
   "execution_count": null,
   "id": "ab13b626-cdd7-41d5-b372-7c9c037f4478",
   "metadata": {},
   "outputs": [],
   "source": [
    "folder_path= evaluation_output_folder + \"/evaluation_allbutone_datasets/dep_weekly/\"\n",
    "results_files = glob.glob(folder_path + \"/*.pkl\", recursive=True)"
   ]
  },
  {
   "cell_type": "code",
   "execution_count": null,
   "id": "f1bc3ffb-4e9f-43f0-a083-b69a8fe378ae",
   "metadata": {},
   "outputs": [],
   "source": [
    "df_results_allbutoneds_list = []\n",
    "for results_file in results_files:\n",
    "    folder, file = os.path.split(results_file)\n",
    "    model_name = file.replace(\".pkl\", \"\")\n",
    "    if (model_name.startswith(\"dl_\")):\n",
    "        if (model_name.endswith(\"on_test\")):\n",
    "            continue\n",
    "        else:\n",
    "            model_name = model_name.replace(\"_direct\", \"\")\n",
    "    # print(model_name)\n",
    "    with open(results_file, 'rb') as f:\n",
    "        results = pickle.load(f)\n",
    "\n",
    "    for pred_target, results_dict in results['results_repo'].items():\n",
    "        for ds_test, results_dict_test in results_dict.items():\n",
    "            d = {\"ds_test\": ds_test, \"pred_target\": pred_target, \"model\": model_name}\n",
    "            d.update(results_dict_test)\n",
    "            df_results_allbutoneds_list.append(d)\n",
    "\n",
    "df_results_allbutoneds_list = pd.DataFrame(df_results_allbutoneds_list)"
   ]
  },
  {
   "cell_type": "code",
   "execution_count": null,
   "id": "4fb4e0e2-2c0d-47ae-b1e5-9486001c2b4c",
   "metadata": {},
   "outputs": [],
   "source": [
    "df_pivot_balacc_allbutoneds, df_pivot_rocauc_allbutoneds = get_pivot_table(\n",
    "    df_results=df_results_allbutoneds_list, ds_keys=ds_keys,\n",
    "    print_latex=True, bold_last_row=False)"
   ]
  },
  {
   "cell_type": "code",
   "execution_count": null,
   "id": "47c8d857-94d0-46ee-8f3d-ee5cdb4a2258",
   "metadata": {},
   "outputs": [],
   "source": [
    "fig, axes = plt.subplots(figsize=(10,5.5), ncols = 2)\n",
    "\n",
    "df_pivot_balacc = df_pivot_balacc_allbutoneds\n",
    "df_pivot_rocauc = df_pivot_rocauc_allbutoneds\n",
    "\n",
    "ax = axes[0]\n",
    "keys = ds_keys\n",
    "df_pivot_balacc = df_pivot_balacc.rename(index = model_rename_display)\n",
    "df_pivot_balacc.index.name = \"\"\n",
    "df_err = df_pivot_balacc[keys].std(axis=1) / 4\n",
    "df_pivot_balacc[keys].mean(axis = 1).sort_values(ascending = True).plot.barh(\n",
    "    ax=ax,xerr= df_err, color = colors[0],\n",
    "    error_kw=dict(lw=2, capsize=3, capthick=1)\n",
    ")\n",
    "ax.set_xlim(0.44,0.61)\n",
    "ax.set_title(\"Balanced Accuracy\")\n",
    "\n",
    "ax = axes[1]\n",
    "keys = ds_keys\n",
    "df_pivot_rocauc = df_pivot_rocauc.rename(index = model_rename_display)\n",
    "df_pivot_rocauc.index.name = \"\"\n",
    "df_err = df_pivot_rocauc[keys].std(axis=1) / 4\n",
    "# df_pivot_rocauc[keys].mean(axis = 1).apply(lambda x : round(x,3)).reset_index()\\\n",
    "    # .rename({\"\":\"model\",0:\"result\"},axis=1).sort_values(['result', \"model\"], ascending = [True, False]).set_index(\"model\").plot.barh(\n",
    "df_pivot_rocauc[keys].mean(axis = 1).sort_values(ascending = True).plot.barh(\n",
    "    ax=ax,xerr= df_err, color = colors[1],\n",
    "    error_kw=dict(lw=2, capsize=3, capthick=1)\n",
    ")\n",
    "# ax.get_legend().remove()\n",
    "ax.set_xlim(0.44,0.61)\n",
    "ax.set_title(\"ROC AUC\")\n",
    "\n",
    "fig.patch.set_facecolor('white')\n",
    "fig.patch.set_alpha(0)\n",
    "\n",
    "fig.patch.set_facecolor('white')\n",
    "fig.patch.set_alpha(0)\n",
    "\n",
    "\n",
    "plt.tight_layout()\n",
    "# plt.savefig(\"plots/results_allbutoneds_allmethods_weekly_neurips.png\", dpi = 300, bbox_inches = \"tight\")\n",
    "plt.show()"
   ]
  },
  {
   "cell_type": "markdown",
   "id": "07c6a601-5744-40a5-8c3f-126831a83637",
   "metadata": {},
   "source": [
    "## Cross Group"
   ]
  },
  {
   "cell_type": "code",
   "execution_count": null,
   "id": "099f4435-fd27-4a6d-b2e9-9aec5eaf1298",
   "metadata": {},
   "outputs": [],
   "source": [
    "folder_path= evaluation_output_folder + \"/evaluation_crosscovid_datasets/dep_weekly/\"\n",
    "results_files = glob.glob(folder_path + \"/*.pkl\", recursive=True)"
   ]
  },
  {
   "cell_type": "code",
   "execution_count": null,
   "id": "9e063af3-e3f3-417b-9085-793f0031fdf5",
   "metadata": {},
   "outputs": [],
   "source": [
    "df_results_crosscovid_list = []\n",
    "for results_file in results_files:\n",
    "    folder, file = os.path.split(results_file)\n",
    "    model_name = file.replace(\".pkl\", \"\")\n",
    "    if (model_name.startswith(\"dl_\")):\n",
    "        if (model_name.endswith(\"on_test\")):\n",
    "            continue\n",
    "        else:\n",
    "            model_name = model_name.replace(\"_direct\", \"\")\n",
    "    # print(model_name)\n",
    "    with open(results_file, 'rb') as f:\n",
    "        results = pickle.load(f)\n",
    "\n",
    "    for pred_target, results_dict in results['results_repo'].items():\n",
    "        for ds_test, results_dict_test in results_dict.items():\n",
    "            d = {\"ds_test\": ds_test, \"pred_target\": pred_target, \"model\": model_name}\n",
    "            d.update(results_dict_test)\n",
    "            df_results_crosscovid_list.append(d)\n",
    "\n",
    "df_results_crosscovid_list = pd.DataFrame(df_results_crosscovid_list)"
   ]
  },
  {
   "cell_type": "code",
   "execution_count": null,
   "id": "d15e1805-75eb-4838-9c37-52f46098dc3b",
   "metadata": {},
   "outputs": [],
   "source": [
    "df_pivot_balacc_crosscovid, df_pivot_rocauc_crosscovid = get_pivot_table(\n",
    "    df_results=df_results_crosscovid_list, ds_keys=[\"INS-W_1:INS-W_2\", \"INS-W_3:INS-W_4\"],\n",
    "    print_latex=True, bold_last_row=False)"
   ]
  },
  {
   "cell_type": "code",
   "execution_count": null,
   "id": "68ea137f-571e-4bf8-8a42-62681d34a764",
   "metadata": {},
   "outputs": [],
   "source": [
    "fig, axes = plt.subplots(figsize=(10,5.5), ncols = 2)\n",
    "\n",
    "ax = axes[0]\n",
    "keys = [\"INS-W_3:INS-W_4\", \"INS-W_1:INS-W_2\"]\n",
    "df_pivot_balacc = df_pivot_balacc_crosscovid.rename(index = model_rename_display)\n",
    "df_pivot_balacc.index.name = \"\"\n",
    "df_err = df_pivot_balacc[keys].std(axis=1) / 2\n",
    "df_pivot_balacc[keys].mean(axis = 1).sort_values(ascending = True).plot.barh(\n",
    "    ax=ax,xerr= df_err, color = colors[2],\n",
    "    error_kw=dict(lw=2, capsize=3, capthick=1)\n",
    ")\n",
    "ax.set_xlim(0.44,0.61)\n",
    "ax.set_title(\"Balanced Accuracy\")\n",
    "\n",
    "ax = axes[1]\n",
    "keys = [\"INS-W_3:INS-W_4\", \"INS-W_1:INS-W_2\"]\n",
    "df_pivot_rocauc = df_pivot_rocauc_crosscovid.rename(index = model_rename_display)\n",
    "df_pivot_rocauc.index.name = \"\"\n",
    "df_err = df_pivot_rocauc[keys].std(axis=1) / 2\n",
    "# df_pivot_rocauc[keys].mean(axis = 1).apply(lambda x : round(x,3)).reset_index()\\\n",
    "    # .rename({\"\":\"model\",0:\"result\"},axis=1).sort_values(['result', \"model\"], ascending = [True, False]).set_index(\"model\").plot.barh(\n",
    "df_pivot_rocauc[keys].mean(axis = 1).sort_values(ascending = True).plot.barh(\n",
    "    ax=ax,xerr= df_err, color = colors[3],\n",
    "    error_kw=dict(lw=2, capsize=3, capthick=1)\n",
    ")\n",
    "# ax.get_legend().remove()\n",
    "ax.set_xlim(0.44,0.61)\n",
    "ax.set_title(\"ROC AUC\")\n",
    "\n",
    "fig.patch.set_facecolor('white')\n",
    "fig.patch.set_alpha(0)\n",
    "\n",
    "fig.patch.set_facecolor('white')\n",
    "fig.patch.set_alpha(0)\n",
    "\n",
    "\n",
    "plt.tight_layout()\n",
    "# plt.savefig(\"plots/results_allbutoneds_allmethods_weekly_neurips.png\", dpi = 300, bbox_inches = \"tight\")\n",
    "plt.show()"
   ]
  },
  {
   "cell_type": "markdown",
   "id": "b54790b8-e8db-4d61-8405-7d4712025bfe",
   "metadata": {},
   "source": [
    "## Overlap"
   ]
  },
  {
   "cell_type": "code",
   "execution_count": null,
   "id": "44576136-9b7f-4eeb-a279-5ebd1305fdb8",
   "metadata": {},
   "outputs": [],
   "source": [
    "folder_path= evaluation_output_folder + \"evaluation_two_datasets_overlap/dep_weekly\"\n",
    "results_files = glob.glob(folder_path + \"/*.pkl\", recursive=True)"
   ]
  },
  {
   "cell_type": "code",
   "execution_count": null,
   "id": "fd8151e3-a2e2-4940-b103-34b4bab7ef3d",
   "metadata": {},
   "outputs": [],
   "source": [
    "df_results_twods_overlap_list = []\n",
    "for results_file in results_files:\n",
    "    folder, file = os.path.split(results_file)\n",
    "    model_name = file.replace(\".pkl\", \"\")\n",
    "    if (model_name.startswith(\"dl_\")):\n",
    "        if (model_name.endswith(\"on_test\")):\n",
    "            continue\n",
    "        else:\n",
    "            model_name = model_name.replace(\"_direct\", \"\")\n",
    "    # print(model_name)\n",
    "    with open(results_file, 'rb') as f:\n",
    "        results = pickle.load(f)\n",
    "\n",
    "    for pred_target, results_dict in results['results_repo'].items():\n",
    "        for ds_test, results_dict_test in results_dict.items():\n",
    "            results_dict_test_inner = results_dict_test[list(results_dict_test.keys())[0]]\n",
    "            d = {\"ds_test\": ds_test, \"pred_target\": pred_target, \"model\": model_name}\n",
    "            d.update(results_dict_test_inner)\n",
    "            df_results_twods_overlap_list.append(d)\n",
    "\n",
    "df_results_twods_overlap_list = pd.DataFrame(df_results_twods_overlap_list)"
   ]
  },
  {
   "cell_type": "code",
   "execution_count": null,
   "id": "f51c53e0-e219-4b8e-b946-59ac8a146bd8",
   "metadata": {},
   "outputs": [],
   "source": [
    "df_pivot_balacc_overlap, df_pivot_rocauc_overlap = get_pivot_table(\n",
    "    df_results=df_results_twods_overlap_list, ds_keys=ds_keys,\n",
    "    print_latex=True, bold_last_row=False)"
   ]
  },
  {
   "cell_type": "code",
   "execution_count": null,
   "id": "84b5c4dd-5a7f-4893-a106-fd60e9786583",
   "metadata": {},
   "outputs": [],
   "source": [
    "fig, axes = plt.subplots(figsize=(10,5.5), ncols = 2)\n",
    "\n",
    "ax = axes[0]\n",
    "keys = ds_keys\n",
    "df_pivot_balacc = df_pivot_balacc_overlap.rename(index = model_rename_display)\n",
    "df_pivot_balacc.index.name = \"\"\n",
    "df_err = df_pivot_balacc[keys].std(axis=1) / 4\n",
    "df_pivot_balacc[keys].mean(axis = 1).sort_values(ascending = True).plot.barh(\n",
    "    ax=ax,xerr= df_err, color = colors[2],\n",
    "    error_kw=dict(lw=2, capsize=3, capthick=1)\n",
    ")\n",
    "ax.set_xlim(0.44,0.7)\n",
    "ax.set_title(\"Balanced Accuracy\")\n",
    "\n",
    "ax = axes[1]\n",
    "keys = ds_keys\n",
    "df_pivot_rocauc = df_pivot_rocauc_overlap.rename(index = model_rename_display)\n",
    "df_pivot_rocauc.index.name = \"\"\n",
    "df_err = df_pivot_rocauc[keys].std(axis=1) / 4\n",
    "# df_pivot_rocauc[keys].mean(axis = 1).apply(lambda x : round(x,3)).reset_index()\\\n",
    "    # .rename({\"\":\"model\",0:\"result\"},axis=1).sort_values(['result', \"model\"], ascending = [True, False]).set_index(\"model\").plot.barh(\n",
    "df_pivot_rocauc[keys].mean(axis = 1).sort_values(ascending = True).plot.barh(\n",
    "    ax=ax,xerr= df_err, color = colors[3],\n",
    "    error_kw=dict(lw=2, capsize=3, capthick=1)\n",
    ")\n",
    "# ax.get_legend().remove()\n",
    "ax.set_xlim(0.44,0.7)\n",
    "ax.set_title(\"ROC AUC\")\n",
    "\n",
    "fig.patch.set_facecolor('white')\n",
    "fig.patch.set_alpha(0)\n",
    "\n",
    "fig.patch.set_facecolor('white')\n",
    "fig.patch.set_alpha(0)\n",
    "\n",
    "\n",
    "plt.tight_layout()\n",
    "# plt.savefig(\"plots/results_allbutoneds_allmethods_weekly_neurips.png\", dpi = 300, bbox_inches = \"tight\")\n",
    "plt.show()"
   ]
  },
  {
   "cell_type": "markdown",
   "id": "87c8bb07-d4ff-43e8-b691-fbbe71d2962b",
   "metadata": {},
   "source": [
    "## Merge all results"
   ]
  },
  {
   "cell_type": "code",
   "execution_count": null,
   "id": "c363b373-1a55-4dff-b821-da0d58287598",
   "metadata": {},
   "outputs": [],
   "source": [
    "df_pivot = pd.concat([df_pivot_balacc_singleds[[\"Avg\"]],\n",
    "                      df_pivot_balacc_allbutoneds[[\"Avg\"]],\n",
    "                      df_pivot_balacc_crosscovid[[\"Avg\"]],\n",
    "                      df_pivot_balacc_overlap[[\"Avg\"]],\n",
    "                     ], axis = 1)"
   ]
  },
  {
   "cell_type": "code",
   "execution_count": null,
   "id": "a76860ce-f462-4674-a82b-a3ea0e7e1678",
   "metadata": {},
   "outputs": [],
   "source": [
    "df_pivot_sem = pd.concat([df_pivot_balacc_singleds.iloc[:,:df_pivot_balacc_singleds.shape[-1]-1].std(axis = 1)/2,\n",
    "                      df_pivot_balacc_allbutoneds.iloc[:,:df_pivot_balacc_allbutoneds.shape[-1]-1].std(axis = 1)/2,\n",
    "                      df_pivot_balacc_crosscovid.iloc[:,:df_pivot_balacc_crosscovid.shape[-1]-1].std(axis = 1)/np.sqrt(2),\n",
    "                      df_pivot_balacc_overlap.iloc[:,:df_pivot_balacc_overlap.shape[-1]-1].std(axis = 1)/2,\n",
    "                     ], axis = 1)"
   ]
  },
  {
   "cell_type": "code",
   "execution_count": null,
   "id": "df5cccf7-c3f2-49b8-9743-dfbcd02dfbaa",
   "metadata": {},
   "outputs": [],
   "source": [
    "df_pivot_final = []\n",
    "for idx, row in df_pivot.iterrows():\n",
    "    row_std = df_pivot_sem.loc[idx]\n",
    "    row_3 = row.apply(lambda x : f\"{x:.3f}\")\n",
    "    row_std_3 = row_std.apply(lambda x : f\"{x:.3f}\")\n",
    "    row_new = []\n",
    "    for x,y in zip(row_3, row_std_3):\n",
    "        row_new.append(f\"{x}{{\\\\small $\\\\pm${y}}}\")\n",
    "    df_pivot_final.append(row_new)\n",
    "df_pivot_final = pd.DataFrame(df_pivot_final, index=df_pivot.index)"
   ]
  },
  {
   "cell_type": "code",
   "execution_count": null,
   "id": "9ecaeeb4-78e9-4061-b2d9-f0f46a1195a3",
   "metadata": {},
   "outputs": [],
   "source": [
    "df_pivot_latex = df_pivot_final.rename(index = model_rename_latex).reset_index()\n",
    "df_pivot_latex.columns = [\"Model\"] + [\"Avg\"] * (df_pivot_latex.shape[1]-1)\n",
    "latex_str_list = utils_tex.table2tex(df_pivot_latex)\n",
    "print(\"\\n& \".join(latex_str_list))"
   ]
  }
 ],
 "metadata": {
  "kernelspec": {
   "display_name": "Python 3 (ipykernel)",
   "language": "python",
   "name": "python3"
  },
  "language_info": {
   "codemirror_mode": {
    "name": "ipython",
    "version": 3
   },
   "file_extension": ".py",
   "mimetype": "text/x-python",
   "name": "python",
   "nbconvert_exporter": "python",
   "pygments_lexer": "ipython3",
   "version": "3.7.11"
  }
 },
 "nbformat": 4,
 "nbformat_minor": 5
}
